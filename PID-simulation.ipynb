{
 "cells": [
  {
   "cell_type": "code",
   "execution_count": 64,
   "metadata": {},
   "outputs": [
    {
     "data": {
      "image/png": "[encoded data removed]",
      "text/plain": [
       "<matplotlib.figure.Figure at 0x11a0bcb70>"
      ]
     },
     "metadata": {},
     "output_type": "display_data"
    }
   ],
   "source": [
    "%matplotlib inline\n",
    "import matplotlib.pyplot as plt\n",
    "import math\n",
    "\n",
    "#\n",
    "# This simulation is calibrated to respond like the physical\n",
    "# PID test rig, more or less. The constants kp, ki, kd can be\n",
    "# be set a the bottom of this cell, and results are plotted\n",
    "# as the angle of the control arm over time.\n",
    "#\n",
    "\n",
    "def test(p,i,d):\n",
    "    #\n",
    "    # Initial conditions\n",
    "    #\n",
    "    theta = 15.0         # control arm position in degrees (0 = vertical downward; 90 = horizontal)\n",
    "    dt = 0.10            # seconds per loop\n",
    "    g = 10.0             # acceleration due to gravity, m/s^2\n",
    "    max_motor = g * 3.0  # educated guess at max thrust of motor + propeller\n",
    "    throttle = -1.0      # throttle setting (range is -1.0 to +1.0, to conform to ESC)\n",
    "    i = 0.0\n",
    "    angular_velocity = 0.0\n",
    "    \n",
    "    target_position = 90.0          # target is to hold control arm in a horizontal position\n",
    "    e0 = target_position - theta    # initial error allows calculation of de/dt in first pass\n",
    "\n",
    "    results = []\n",
    "\n",
    "    #\n",
    "    # loop for 1000 time steps\n",
    "    #\n",
    "    for x in range(0,100):\n",
    "        #\n",
    "        # Simulate the motion of the control arm\n",
    "        #\n",
    "        downward_accel = -g * math.sin(theta * 2.0 * math.pi / 360.0)\n",
    "        upward_accel = ((throttle + 1.0)/2.0) * max_motor\n",
    "        net_accel = downward_accel + upward_accel\n",
    "        angular_velocity += net_accel * dt\n",
    "        theta += angular_velocity\n",
    "        theta = max(theta, 0.0)\n",
    "        theta = min(theta, 180.0)\n",
    "        \n",
    "        #\n",
    "        # Measure error, calculate PID, apply result to throttle setting\n",
    "        #\n",
    "        e1 = 90.0 - theta\n",
    "        p = e1\n",
    "        i = i + (e1 * dt)\n",
    "        d = (e1 - e0) / dt\n",
    "        pid = (kp * p) + (ki * i) + (kd * d)\n",
    "        pid = max(pid, -1.0)\n",
    "        pid = min(pid,  1.0)\n",
    "        \n",
    "        throttle = -1.0 + (pid * 2.0)\n",
    "        throttle = max(throttle, -1.0)\n",
    "        throttle = min(throttle,  1.0)\n",
    "        # print(downward_accel,upward_accel,net_accel,angular_velocity,theta)\n",
    "        e0 = e1\n",
    "        results.append(theta)\n",
    "\n",
    "    plt.plot(results)\n",
    "\n",
    "    \n",
    "###################################################\n",
    "# change the constants, below\n",
    "\n",
    "kp = 0.009\n",
    "ki = 0.005\n",
    "kd = 0.0035\n",
    "\n",
    "test(kp, ki, kd)"
   ]
  },
  {
   "cell_type": "code",
   "execution_count": null,
   "metadata": {},
   "outputs": [],
   "source": []
  }
 ],
 "metadata": {
  "kernelspec": {
   "display_name": "Python 3",
   "language": "python",
   "name": "python3"
  },
  "language_info": {
   "codemirror_mode": {
    "name": "ipython",
    "version": 3
   },
   "file_extension": ".py",
   "mimetype": "text/x-python",
   "name": "python",
   "nbconvert_exporter": "python",
   "pygments_lexer": "ipython3",
   "version": "3.6.4"
  }
 },
 "nbformat": 4,
 "nbformat_minor": 2
}
